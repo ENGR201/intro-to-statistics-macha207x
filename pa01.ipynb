{
  "nbformat": 4,
  "nbformat_minor": 0,
  "metadata": {
    "colab": {
      "provenance": []
    },
    "kernelspec": {
      "name": "python3",
      "display_name": "Python 3"
    },
    "language_info": {
      "name": "python"
    }
  },
  "cells": [
    {
      "cell_type": "markdown",
      "source": [
        "**Here is your first assignment (not graded)**"
      ],
      "metadata": {
        "id": "f27e5gN6fbW_"
      }
    },
    {
      "cell_type": "code",
      "source": [
        "# To run a cell, press the arrow on the left\n",
        "# Or press shift-enter\n",
        "import math\n",
        "\n",
        "print(\"Welcome to COMP125\")"
      ],
      "metadata": {
        "id": "VIkgOPg6fN9P"
      },
      "execution_count": null,
      "outputs": []
    },
    {
      "cell_type": "code",
      "source": [
        "# Ask the name of the student\n",
        "student_name ="
      ],
      "metadata": {
        "id": "gD2iS-fze2bc"
      },
      "execution_count": null,
      "outputs": []
    },
    {
      "cell_type": "code",
      "source": [
        "print(\"Hello \")\n",
        "print(student_name)"
      ],
      "metadata": {
        "id": "ny4HgLYke_vI"
      },
      "execution_count": null,
      "outputs": []
    },
    {
      "cell_type": "code",
      "source": [
        "# Create three variables named as width, height, and length.\n",
        "# They should be set to 2.123, 3.875, and 4.172 respectively.\n",
        "width = 2.123\n",
        "height =\n"
      ],
      "metadata": {
        "id": "uB35cp9xlRLo"
      },
      "execution_count": null,
      "outputs": []
    },
    {
      "cell_type": "code",
      "source": [
        "# Calculate the volume of the prism\n",
        "volume ="
      ],
      "metadata": {
        "id": "4Ou9eL_5lfud"
      },
      "execution_count": null,
      "outputs": []
    },
    {
      "cell_type": "code",
      "source": [
        "#Do not change this cell\n",
        "\n",
        "try:\n",
        "  assert math.isclose(volume, 1.9719, abs_tol=1e-4)\n",
        "except:\n",
        "  print(\"Wrong answer, please try again\")\n",
        "else:\n",
        "  print(\"Well done !!!\")\n",
        "\n",
        "\n"
      ],
      "metadata": {
        "colab": {
          "base_uri": "https://localhost:8080/"
        },
        "id": "n3n6nikVkLmu",
        "outputId": "7f6ca59e-9f4f-4f6c-e291-85afebd3828f"
      },
      "execution_count": null,
      "outputs": [
        {
          "output_type": "stream",
          "name": "stdout",
          "text": [
            "Wrong answer, please try again\n"
          ]
        }
      ]
    },
    {
      "cell_type": "code",
      "source": [],
      "metadata": {
        "id": "lAbaum5Mpya9"
      },
      "execution_count": null,
      "outputs": []
    }
  ]
}